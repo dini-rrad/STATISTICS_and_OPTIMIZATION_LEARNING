{
 "cells": [
  {
   "cell_type": "markdown",
   "id": "54851642",
   "metadata": {},
   "source": [
    "Seorang peneliti sedang mempelajari jamur. Mereka telah menemukan cincin jamur dan memberi label koordinat. Biasanya jamur menyebar keluar dari pusat jamur awal. Dengan koordinat di bawah ini, peneliti ingin menjawab pertanyaan: Kira-kira di manakah letak pusat pertumbuhan jamur? Buat bagan yang memungkinkan peneliti memperkirakan pusat pertumbuhan.\n"
   ]
  },
  {
   "cell_type": "code",
   "execution_count": 5,
   "id": "389297fc",
   "metadata": {},
   "outputs": [],
   "source": [
    "import seaborn as sns\n",
    "import matplotlib.pyplot as plt\n",
    "import numpy as np\n",
    "import pandas as pd"
   ]
  },
  {
   "cell_type": "code",
   "execution_count": 14,
   "id": "96cc3c93",
   "metadata": {},
   "outputs": [
    {
     "data": {
      "text/plain": [
       "<AxesSubplot:>"
      ]
     },
     "execution_count": 14,
     "metadata": {},
     "output_type": "execute_result"
    },
    {
     "data": {
      "image/png": "[encoded data removed]",
      "text/plain": [
       "<Figure size 432x288 with 2 Axes>"
      ]
     },
     "metadata": {
      "needs_background": "light"
     },
     "output_type": "display_data"
    }
   ],
   "source": [
    "#Problem x\n",
    "\n",
    "label = ['label1','label2','label3','label4','label5','label6','label7','label8']\n",
    "\n",
    "pertumbuhan = ['A', 'B', 'C', 'D', 'E', 'F', 'G','H','I','J']\n",
    "x = [\n",
    "    [4.61, 5.08, 5.18, 7.82, 10.46, 7.66, 7.6, 9.32, 14.04, 9.95    ],\n",
    "    [4.95, 7.23, 5.21, 8.64, 10.08, 8.32, 12.83, 7.51, 7.82, 6.29   ],\n",
    "    [0.04, 6.62, 13.16, 6.34, 0.09, 10.04, 13.06, 9.54, 11.32, 7.12 ],\n",
    "    [-0.67, 10.5, 8.37, 7.24, 9.18, 10.12, 12.29, 8.53, 11.11, 9.65 ],\n",
    "    [9.42, 8.61, -0.67, 5.94, 6.49, 7.57, 3.11, 8.7, 5.28, 8.28     ],\n",
    "    [9.55, 8.33, 13.7, 6.65, 2.4, 3.54, 9.19, 7.51, -0.68, 8.47     ],\n",
    "    [14.82, 5.31, 14.01, 8.75, -0.57, 5.35, 10.51, 3.11, -0.26, 5.74],\n",
    "    [8.33, 6.5, 13.85, 9.78, 4.91, 4.19, 14.8, 10.04, 13.47, 3.28   ],\n",
    "]\n",
    "\n",
    "\n",
    "sns.heatmap(x, yticklabels=label, xticklabels=pertumbuhan,cmap='coolwarm')\n"
   ]
  },
  {
   "cell_type": "markdown",
   "id": "263161e9",
   "metadata": {},
   "source": [
    "Dari problem x dan bagan yang telah dibuat diatas, diperkirakan pusat pertumbuhan jamur terletak pada label 8 dan pertumbuhan G"
   ]
  },
  {
   "cell_type": "code",
   "execution_count": 19,
   "id": "f5feb03c",
   "metadata": {},
   "outputs": [
    {
     "data": {
      "text/plain": [
       "<AxesSubplot:>"
      ]
     },
     "execution_count": 19,
     "metadata": {},
     "output_type": "execute_result"
    },
    {
     "data": {
      "image/png": "[encoded data removed]",
      "text/plain": [
       "<Figure size 432x288 with 2 Axes>"
      ]
     },
     "metadata": {
      "needs_background": "light"
     },
     "output_type": "display_data"
    }
   ],
   "source": [
    "#Problem y\n",
    "\n",
    "label = ['label1','label2','label3','label4','label5','label6','label7','label8']\n",
    "\n",
    "pertumbuhan = ['A', 'B', 'C', 'D', 'E', 'F', 'G','H','I','J']\n",
    "\n",
    "y = [\n",
    "    [-2.36, -3.41, 13.01, -2.91, -2.28, 12.83, 13.13, 11.94, 0.93, -2.76 ], \n",
    "    [13.31, -3.57, -2.33, 12.43, -1.83, 12.32, -0.42, -3.08, -2.98, 12.46], \n",
    "    [8.34, -3.19, -0.47, 12.78, 2.12, -2.72, 10.64, 11.98, 12.21, 12.52  ],\n",
    "    [5.53, 11.72, 12.91, 12.56, -2.49, 12.08, -1.09, -2.89, -1.78, -2.47 ],\n",
    "    [12.77, 12.41, 5.33, -3.23, 13.45, -3.41, 12.46, 12.1, -2.56, 12.51  ],\n",
    "    [-2.37, 12.76, 9.69, 12.59, -1.12, -2.8, 12.94, -3.55, 7.33, 12.59   ], \n",
    "    [2.92, 12.7, 0.5, 12.57, 6.39, 12.84, -1.95, 11.76, 6.82, 12.44      ],\n",
    "    [13.28, -3.46, 0.7, -2.55, -2.37, 12.48, 7.26, -2.45, 0.31, -2.51    ],\n",
    "]\n",
    "\n",
    "sns.heatmap(y, yticklabels=label, xticklabels=pertumbuhan,cmap='coolwarm')\n"
   ]
  },
  {
   "cell_type": "markdown",
   "id": "9023540d",
   "metadata": {},
   "source": [
    "Dari problem y dan bagan yang telah dibuat diatas, diperkirakan pusat pertumbuhan jamur terletak pada label 5 dan pertumbuhan E"
   ]
  },
  {
   "cell_type": "code",
   "execution_count": null,
   "id": "b4c1ecde",
   "metadata": {},
   "outputs": [],
   "source": []
  }
 ],
 "metadata": {
  "kernelspec": {
   "display_name": "Python 3 (ipykernel)",
   "language": "python",
   "name": "python3"
  },
  "language_info": {
   "codemirror_mode": {
    "name": "ipython",
    "version": 3
   },
   "file_extension": ".py",
   "mimetype": "text/x-python",
   "name": "python",
   "nbconvert_exporter": "python",
   "pygments_lexer": "ipython3",
   "version": "3.9.7"
  }
 },
 "nbformat": 4,
 "nbformat_minor": 5
}
